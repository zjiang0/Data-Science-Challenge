{
 "cells": [
  {
   "cell_type": "markdown",
   "metadata": {},
   "source": [
    "# Goal"
   ]
  },
  {
   "cell_type": "markdown",
   "metadata": {},
   "source": [
    "Perform funnel analysis for a e-commerce website."
   ]
  },
  {
   "cell_type": "markdown",
   "metadata": {},
   "source": [
    "### *About funnel analysis\n",
    "\n",
    "Typically, websites have a clear path to conversion: for instance, you land on the home page, then you search, select a product and buy it. At each of these steps, some users will drop off and leave the site. The sequence of pages that leads to conversion is called ‘funnel’ .\n",
    "\n",
    "Funnel analysis allows to understand where/when our users abandon the website. It gives crucial insights on user behavior and on ways to improve the user experience as well as it often allows to discover bugs."
   ]
  },
  {
   "cell_type": "markdown",
   "metadata": {},
   "source": [
    "### *Tasks"
   ]
  },
  {
   "cell_type": "markdown",
   "metadata": {},
   "source": [
    "1. A full picture of funnel conversion rate for both desktop and mobile\n",
    "\n",
    "\n",
    "2. Some insights on what the product team should focus on in order to improve conversion rate as well as anything you might discover that could help improve conversion rate."
   ]
  },
  {
   "cell_type": "markdown",
   "metadata": {},
   "source": [
    "# Solution"
   ]
  },
  {
   "cell_type": "markdown",
   "metadata": {},
   "source": [
    "## Question 1"
   ]
  },
  {
   "cell_type": "markdown",
   "metadata": {},
   "source": [
    "### Load data"
   ]
  },
  {
   "cell_type": "code",
   "execution_count": 104,
   "metadata": {},
   "outputs": [],
   "source": [
    "import pandas as pd\n",
    "import numpy as np\n",
    "from datetime import datetime"
   ]
  },
  {
   "cell_type": "code",
   "execution_count": 105,
   "metadata": {},
   "outputs": [],
   "source": [
    "#read data\n",
    "user = pd.read_csv(\"./Funnel_Analysis/user_table.csv\")\n",
    "home_page = pd.read_csv(\"./Funnel_Analysis/home_page_table.csv\")\n",
    "search_page = pd.read_csv(\"./Funnel_Analysis/search_page_table.csv\")\n",
    "payment_page = pd.read_csv(\"./Funnel_Analysis/payment_page_table.csv\")\n",
    "payment_confirmation = pd.read_csv(\"./Funnel_Analysis/payment_confirmation_table.csv\")"
   ]
  },
  {
   "cell_type": "code",
   "execution_count": 106,
   "metadata": {},
   "outputs": [
    {
     "name": "stdout",
     "output_type": "stream",
     "text": [
      "   user_id       date   device     sex\n",
      "0   450007 2015-02-28  Desktop  Female\n",
      "1   756838 2015-01-13  Desktop    Male\n",
      "2   568983 2015-04-09  Desktop    Male\n",
      "3   190794 2015-02-18  Desktop  Female\n",
      "4   537909 2015-01-15  Desktop    Male\n"
     ]
    }
   ],
   "source": [
    "#convert str to timestamp type\n",
    "user['date'] = pd.to_datetime(user['date'])\n",
    "print(user.head())"
   ]
  },
  {
   "cell_type": "code",
   "execution_count": 107,
   "metadata": {},
   "outputs": [
    {
     "name": "stdout",
     "output_type": "stream",
     "text": [
      "   user_id       page\n",
      "0   313593  home_page\n",
      "1   468315  home_page\n",
      "2   264005  home_page\n",
      "3   290784  home_page\n",
      "4   639104  home_page\n"
     ]
    }
   ],
   "source": [
    "print(home_page.head())"
   ]
  },
  {
   "cell_type": "code",
   "execution_count": 108,
   "metadata": {},
   "outputs": [
    {
     "name": "stdout",
     "output_type": "stream",
     "text": [
      "   user_id         page\n",
      "0    15866  search_page\n",
      "1   347058  search_page\n",
      "2   577020  search_page\n",
      "3   780347  search_page\n",
      "4   383739  search_page\n"
     ]
    }
   ],
   "source": [
    "print(search_page.head())"
   ]
  },
  {
   "cell_type": "code",
   "execution_count": 109,
   "metadata": {},
   "outputs": [
    {
     "name": "stdout",
     "output_type": "stream",
     "text": [
      "   user_id          page\n",
      "0   253019  payment_page\n",
      "1   310478  payment_page\n",
      "2   304081  payment_page\n",
      "3   901286  payment_page\n",
      "4   195052  payment_page\n"
     ]
    }
   ],
   "source": [
    "print(payment_page.head())"
   ]
  },
  {
   "cell_type": "code",
   "execution_count": 110,
   "metadata": {},
   "outputs": [
    {
     "name": "stdout",
     "output_type": "stream",
     "text": [
      "   user_id                       page\n",
      "0   123100  payment_confirmation_page\n",
      "1   704999  payment_confirmation_page\n",
      "2   407188  payment_confirmation_page\n",
      "3   538348  payment_confirmation_page\n",
      "4   841681  payment_confirmation_page\n"
     ]
    }
   ],
   "source": [
    "print(payment_confirmation.head())"
   ]
  },
  {
   "cell_type": "markdown",
   "metadata": {},
   "source": [
    "### Data processing"
   ]
  },
  {
   "cell_type": "code",
   "execution_count": 111,
   "metadata": {},
   "outputs": [
    {
     "name": "stdout",
     "output_type": "stream",
     "text": [
      "   user_id       date   device     sex  page_home  page_search page_payment  \\\n",
      "0   450007 2015-02-28  Desktop  Female  home_page          NaN          NaN   \n",
      "1   756838 2015-01-13  Desktop    Male  home_page          NaN          NaN   \n",
      "2   568983 2015-04-09  Desktop    Male  home_page  search_page          NaN   \n",
      "3   190794 2015-02-18  Desktop  Female  home_page  search_page          NaN   \n",
      "4   537909 2015-01-15  Desktop    Male  home_page          NaN          NaN   \n",
      "\n",
      "  page_confirmation  \n",
      "0               NaN  \n",
      "1               NaN  \n",
      "2               NaN  \n",
      "3               NaN  \n",
      "4               NaN  \n"
     ]
    }
   ],
   "source": [
    "#Join all tables together base on user_id\n",
    "data = pd.merge(left = user, right = home_page, how = 'left', on = 'user_id')\n",
    "data = pd.merge(left = data, right = search_page, how = 'left', on ='user_id', suffixes = ('_home', '_search'))\n",
    "data = pd.merge(left = data, right = payment_page, how = 'left', on ='user_id')\n",
    "data = pd.merge(left = data, right = payment_confirmation, how = 'left', on ='user_id', suffixes = ('_payment', '_confirmation'))\n",
    "print(data.head())"
   ]
  },
  {
   "cell_type": "code",
   "execution_count": 112,
   "metadata": {},
   "outputs": [
    {
     "name": "stdout",
     "output_type": "stream",
     "text": [
      "   user_id       date   device     sex  page_home  page_search  page_payment  \\\n",
      "0   450007 2015-02-28  Desktop  Female          1            0             0   \n",
      "1   756838 2015-01-13  Desktop    Male          1            0             0   \n",
      "2   568983 2015-04-09  Desktop    Male          1            1             0   \n",
      "3   190794 2015-02-18  Desktop  Female          1            1             0   \n",
      "4   537909 2015-01-15  Desktop    Male          1            0             0   \n",
      "\n",
      "   page_confirmation  \n",
      "0                  0  \n",
      "1                  0  \n",
      "2                  0  \n",
      "3                  0  \n",
      "4                  0  \n"
     ]
    }
   ],
   "source": [
    "#Convert null page type value into 0 and non-null page type into 1\n",
    "data['page_home'] = data['page_home'].replace({np.nan:0,'home_page':1})\n",
    "data['page_search'] = data['page_search'].replace({np.nan:0,'search_page':1})\n",
    "data['page_payment'] = data['page_payment'].replace({np.nan:0,'payment_page':1})\n",
    "data['page_confirmation'] = data['page_confirmation'].replace({np.nan:0,'payment_confirmation_page':1})\n",
    "print(data.head())"
   ]
  },
  {
   "cell_type": "markdown",
   "metadata": {},
   "source": [
    "### Analysis"
   ]
  },
  {
   "cell_type": "markdown",
   "metadata": {},
   "source": [
    "1) Calculate the ratio of visitor for each page type"
   ]
  },
  {
   "cell_type": "code",
   "execution_count": 113,
   "metadata": {},
   "outputs": [],
   "source": [
    "import matplotlib.pyplot as plt\n",
    "import seaborn as sns"
   ]
  },
  {
   "cell_type": "code",
   "execution_count": 124,
   "metadata": {},
   "outputs": [
    {
     "name": "stdout",
     "output_type": "stream",
     "text": [
      "           page  ratio of visitor\n",
      "0          home          1.000000\n",
      "1        search          0.500000\n",
      "2       payment          0.066704\n",
      "3  confirmation          0.005000\n"
     ]
    }
   ],
   "source": [
    "#ratio of visitor = number of users land on this type of page / total number of users visit the website\n",
    "ratio_of_visitor = pd.DataFrame({'page':['home','search','payment','confirmation'],'ratio of visitor':[data['page_home'].mean(),data['page_search'].mean(),data['page_payment'].mean(),data['page_confirmation'].mean()]})\n",
    "print(ratio_of_visitor)"
   ]
  },
  {
   "cell_type": "code",
   "execution_count": 125,
   "metadata": {},
   "outputs": [
    {
     "data": {
      "image/png": "[encoded data removed]",
      "text/plain": [
       "<Figure size 432x288 with 1 Axes>"
      ]
     },
     "metadata": {
      "needs_background": "light"
     },
     "output_type": "display_data"
    }
   ],
   "source": [
    "#draw bar plot\n",
    "fig, ax = plt.subplots()\n",
    "sns.barplot(x='page',y='ratio of visitor',data=ratio_of_visitor)\n",
    "ax.set_xlabel('Page')\n",
    "ax.set_ylabel('Ratio of visitor')\n",
    "plt.show()"
   ]
  },
  {
   "cell_type": "markdown",
   "metadata": {},
   "source": [
    "After the users enter the website, 50% of them perform a search, 6.7% of them click on a item, finally only 0.5% of users really purchase a item."
   ]
  },
  {
   "cell_type": "markdown",
   "metadata": {},
   "source": [
    "2) Calculate converision rate for each page type"
   ]
  },
  {
   "cell_type": "code",
   "execution_count": 122,
   "metadata": {},
   "outputs": [
    {
     "name": "stdout",
     "output_type": "stream",
     "text": [
      "      page  conversion rate\n",
      "0     home         0.500000\n",
      "1   search         0.133407\n",
      "2  payment         0.074959\n"
     ]
    }
   ],
   "source": [
    "#for example: conversion rate of current page = number of users land on next page / total number of users land on current page\n",
    "def conversion_rate(df):\n",
    "    rates = []\n",
    "    rates.append(df['page_search'].sum() / df['page_home'].sum())\n",
    "    rates.append(df['page_payment'].sum() / df['page_search'].sum())\n",
    "    rates.append(df['page_confirmation'].sum() / df['page_payment'].sum())\n",
    "    return rates\n",
    "\n",
    "rates = conversion_rate(data)\n",
    "conv_rate = pd.DataFrame({'page':['home','search','payment'], 'conversion rate':rates})\n",
    "print(conv_rate)"
   ]
  },
  {
   "cell_type": "code",
   "execution_count": 123,
   "metadata": {},
   "outputs": [
    {
     "data": {
      "image/png": "[encoded data removed]",
      "text/plain": [
       "<Figure size 432x288 with 1 Axes>"
      ]
     },
     "metadata": {
      "needs_background": "light"
     },
     "output_type": "display_data"
    }
   ],
   "source": [
    "#draw bar plot\n",
    "fig, ax = plt.subplots()\n",
    "sns.barplot(x='page',y='conversion rate',data=conv_rate)\n",
    "ax.set_xlabel('Page')\n",
    "ax.set_ylabel('Conversion Rate')\n",
    "plt.show()"
   ]
  },
  {
   "cell_type": "markdown",
   "metadata": {},
   "source": [
    "3) Calculate conversion rate by device"
   ]
  },
  {
   "cell_type": "code",
   "execution_count": 119,
   "metadata": {},
   "outputs": [
    {
     "name": "stdout",
     "output_type": "stream",
     "text": [
      "['Desktop' 'Mobile']\n"
     ]
    }
   ],
   "source": [
    "#check the category of device\n",
    "print(data['device'].unique())"
   ]
  },
  {
   "cell_type": "code",
   "execution_count": 126,
   "metadata": {},
   "outputs": [
    {
     "data": {
      "text/plain": [
       "[0.5, 0.1, 0.04983388704318937, 0.5, 0.2, 0.1]"
      ]
     },
     "execution_count": 126,
     "metadata": {},
     "output_type": "execute_result"
    }
   ],
   "source": [
    "rates_desktop = conversion_rate(data[data['device']=='Desktop'])\n",
    "rates_mobile = conversion_rate(data[data['device']=='Mobile'])"
   ]
  },
  {
   "cell_type": "code",
   "execution_count": 127,
   "metadata": {},
   "outputs": [
    {
     "name": "stdout",
     "output_type": "stream",
     "text": [
      "      page   device  conversion rate\n",
      "0     home  Desktop         0.500000\n",
      "1   search  Desktop         0.100000\n",
      "2  payment  Desktop         0.049834\n",
      "3     home   Mobile         0.500000\n",
      "4   search   Mobile         0.200000\n",
      "5  payment   Mobile         0.100000\n"
     ]
    }
   ],
   "source": [
    "conv_rate_by_device = pd.DataFrame({'page':['home','search','payment','home','search','payment'],\n",
    "                                    'device':['Desktop','Desktop','Desktop','Mobile','Mobile','Mobile'],\n",
    "                                    'conversion rate':rates_desktop + rates_mobile})\n",
    "print(conv_rate_by_device)"
   ]
  },
  {
   "cell_type": "code",
   "execution_count": 133,
   "metadata": {},
   "outputs": [
    {
     "data": {
      "image/png": "[encoded data removed]",
      "text/plain": [
       "<Figure size 432x288 with 1 Axes>"
      ]
     },
     "metadata": {
      "needs_background": "light"
     },
     "output_type": "display_data"
    }
   ],
   "source": [
    "#draw bar plot\n",
    "fig,ax=plt.subplots()\n",
    "sns.barplot(x='page',y='conversion rate',data=conv_rate_by_device, hue='device')\n",
    "ax.set_xlabel('Page')\n",
    "ax.set_ylabel('Conversion Rate')\n",
    "plt.show()"
   ]
  },
  {
   "cell_type": "markdown",
   "metadata": {},
   "source": [
    "4) Calculate conversion rate by sex"
   ]
  },
  {
   "cell_type": "code",
   "execution_count": 134,
   "metadata": {},
   "outputs": [
    {
     "name": "stdout",
     "output_type": "stream",
     "text": [
      "['Female' 'Male']\n"
     ]
    }
   ],
   "source": [
    "#check the category of device\n",
    "print(data['sex'].unique())"
   ]
  },
  {
   "cell_type": "code",
   "execution_count": 135,
   "metadata": {},
   "outputs": [],
   "source": [
    "rates_female = conversion_rate(data[data['sex']=='Female'])\n",
    "rates_male = conversion_rate(data[data['sex']=='Male'])"
   ]
  },
  {
   "cell_type": "code",
   "execution_count": 138,
   "metadata": {},
   "outputs": [
    {
     "name": "stdout",
     "output_type": "stream",
     "text": [
      "      page     sex  conversion rate\n",
      "0     home  Female         0.503073\n",
      "1   search  Female         0.136708\n",
      "2  payment  Female         0.077742\n",
      "3     home    Male         0.496944\n",
      "4   search    Male         0.130083\n",
      "5  payment    Male         0.072014\n"
     ]
    }
   ],
   "source": [
    "conv_rate_by_sex = pd.DataFrame({'page':['home','search','payment','home','search','payment'],\n",
    "                                    'sex':['Female','Female','Female','Male','Male','Male'],\n",
    "                                    'conversion rate':rates_female + rates_male})\n",
    "print(conv_rate_by_sex)"
   ]
  },
  {
   "cell_type": "code",
   "execution_count": 139,
   "metadata": {},
   "outputs": [
    {
     "data": {
      "image/png": "[encoded data removed]",
      "text/plain": [
       "<Figure size 432x288 with 1 Axes>"
      ]
     },
     "metadata": {
      "needs_background": "light"
     },
     "output_type": "display_data"
    }
   ],
   "source": [
    "#draw bar plot\n",
    "fig,ax=plt.subplots()\n",
    "sns.barplot(x='page',y='conversion rate',data=conv_rate_by_sex, hue='sex')\n",
    "ax.set_xlabel('Page')\n",
    "ax.set_ylabel('Conversion Rate')\n",
    "plt.show()"
   ]
  },
  {
   "cell_type": "markdown",
   "metadata": {},
   "source": [
    "## Question 2\n",
    "Reference: https://github.com/anupriyakush/E-commerce-Conversion-Funnel-Analysis/blob/master/Recommendation%20Report.pdf"
   ]
  }
 ],
 "metadata": {
  "kernelspec": {
   "display_name": "Python 3",
   "language": "python",
   "name": "python3"
  },
  "language_info": {
   "codemirror_mode": {
    "name": "ipython",
    "version": 3
   },
   "file_extension": ".py",
   "mimetype": "text/x-python",
   "name": "python",
   "nbconvert_exporter": "python",
   "pygments_lexer": "ipython3",
   "version": "3.8.5"
  }
 },
 "nbformat": 4,
 "nbformat_minor": 4
}
